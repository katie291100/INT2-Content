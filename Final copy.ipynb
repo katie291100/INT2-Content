{
 "cells": [
  {
   "cell_type": "code",
   "execution_count": 198,
   "outputs": [],
   "source": [
    "import numpy as np\n",
    "import matplotlib.pyplot as plt"
   ],
   "metadata": {
    "collapsed": false,
    "pycharm": {
     "name": "#%%\n"
    }
   }
  },
  {
   "cell_type": "code",
   "execution_count": 199,
   "outputs": [
    {
     "name": "stdout",
     "output_type": "stream",
     "text": [
      "original data set\n"
     ]
    }
   ],
   "source": [
    "#X = np.array([[2, 3, 9, 12],\n",
    "                  #[5, 2, 6, 5]])\n",
    "#y = np.array([[1, -1, 1, -1]])\n",
    "def poly_powers(order):\n",
    "    \"\"\"\n",
    "    Returns all powers for a polynomial of a given order.\n",
    "    For example, if order is 2 (a, b), will return the powers for a and b to make [1, a, b, a^2, ab, b^2]\n",
    "    \"\"\"\n",
    "    return [(k - i, i) for k in range(order + 1) for i in range(k + 1)]\n",
    "\n",
    "def poly_transform_single(x, k):\n",
    "    return np.array([((x[0] ** power[0]) * (x[1] ** power[1])) for power in poly_powers(k)])\n",
    "\n",
    "def transform_polynomial_basis(X, k):\n",
    "\n",
    "    if k not in range(5):\n",
    "        raise ValueError(\"k can only be between 0 and 4\")\n",
    "  #  if X.shape[0] != 2:\n",
    "    #    raise ValueError(\"X must be a 2 - dimensional array\")\n",
    "    output = np.zeros((len(poly_powers(k)), X.shape[1]), dtype = float)\n",
    "    for i in range(output.shape[1]):\n",
    "        output[:,i] = poly_transform_single(X[:,i], k)\n",
    "    return output\n",
    "np.set_printoptions(suppress=True)\n",
    "\n",
    "print(\"original data set\")\n",
    "#print(transform_polynomial_basis(X, 3))\n"
   ],
   "metadata": {
    "collapsed": false,
    "pycharm": {
     "name": "#%%\n"
    }
   }
  },
  {
   "cell_type": "code",
   "execution_count": 200,
   "outputs": [],
   "source": [
    "def transform_polynomial_basis_1d(x, order):\n",
    "    \"\"\"\n",
    "    Transforms a single 1-dimensional data point x with a polynomial basis transformation.\n",
    "\n",
    "    :param x: A numpy array with a single value (d=1).\n",
    "    :param order: Can be 0, 1, 2 or 3.\n",
    "    :return: The transformed data point x as a list.\n",
    "    \"\"\"\n",
    "    if order==0:\n",
    "        return [1]\n",
    "    if order==1:\n",
    "        return [1, x]\n",
    "    if order==2:\n",
    "        # Todo: Implement the polynomial basis for k=2:\n",
    "        return [1,x,x**2]\n",
    "    if order==3:\n",
    "        # Todo: And for k=3:\n",
    "        return [1, x, x**2, x**3]\n"
   ],
   "metadata": {
    "collapsed": false,
    "pycharm": {
     "name": "#%%\n"
    }
   }
  },
  {
   "cell_type": "code",
   "execution_count": 201,
   "outputs": [],
   "source": [
    "def gradient_descent(f, df, x0, step_size_fn, max_iter):\n",
    "    \"\"\"\n",
    "    Performs gradient descent on the given function f, with its gradient df.\n",
    "\n",
    "    :param f: A function whose input is an x, a column vector, and returns a scalar.\n",
    "    :param df: A function whose input is an x, a co lumn vector, and returns a column vector representing the gradient of f at x.\n",
    "    :param x0: An initial value of x, x0, which is a column vector.\n",
    "    :param step_size: The step size to use in each step\n",
    "    :param max_iter: The number of iterations to perform\n",
    "\n",
    "    :return x: the value at the final step\n",
    "    :return fs: the list of values of f found during all the iterations (including f(x0))\n",
    "    :return xs: the list of values of x found during all the iterations (including x0)\n",
    "    @rtype: object\n",
    "    \"\"\"\n",
    "\n",
    "    # Exercise 1 (d): Todo: Implement here.\n",
    "    prev_x = x0\n",
    "    xs = []\n",
    "    fs = []\n",
    "\n",
    "    for i in range(max_iter):\n",
    "        prev_f = f(prev_x) #why is it using the f of previous x rather than just prev x\n",
    "        prev_grad = df(prev_x)\n",
    "        fs.append(prev_f)\n",
    "        xs.append(prev_x)\n",
    "        if i == max_iter - 1:\n",
    "            return prev_x, fs, xs\n",
    "        step = step_size_fn(i)\n",
    "        prev_x = prev_x - step * prev_grad\n",
    "\n",
    "\n",
    "    return"
   ],
   "metadata": {
    "collapsed": false,
    "pycharm": {
     "name": "#%%\n"
    }
   }
  },
  {
   "cell_type": "code",
   "execution_count": 202,
   "outputs": [
    {
     "name": "stdout",
     "output_type": "stream",
     "text": [
      "x values\n",
      "[-1, -1.6, -1.12, -1.5039999999999998, -1.1968, -1.44256, -1.245952, -1.4032384000000002, -1.27740928, -1.3780725759999999]\n",
      "y values\n",
      "[1.0, 0.6400000000000011, 0.4095999999999996, 0.26214399999999954, 0.16777215999999978, 0.10737418239999998, 0.06871947673600008, 0.04398046511104028, 0.02814749767106551, 0.01801439850948183]\n"
     ]
    },
    {
     "data": {
      "text/plain": "Text(0.5, 1.0, 'gradient descent of f(x)')"
     },
     "execution_count": 202,
     "metadata": {},
     "output_type": "execute_result"
    },
    {
     "data": {
      "text/plain": "<Figure size 432x288 with 1 Axes>",
      "image/png": "[encoded data removed]"
     },
     "metadata": {
      "needs_background": "light"
     },
     "output_type": "display_data"
    }
   ],
   "source": [
    "def f1(x):\n",
    "    # Our function is f(x) = (3x+4)^2\n",
    "    return float(((3 * x) + 4) ** 2)\n",
    "\n",
    "def df1(x):\n",
    "    # 1 (c): Todo: Implement the derivative here\n",
    "    return float((18*x) + 24)\n",
    "\n",
    "#create plot for gradient descent\n",
    "fig_simple, ax_simple = plt.subplots()  # create an empty plot and retrieve the 'ax' handle\n",
    "f1_plot_x = np.arange(-2.5, 0, 0.05)\n",
    "f1_plot_y = np.array([f1(x) for x in f1_plot_x])\n",
    "ax_simple.plot(f1_plot_x, f1_plot_y)\n",
    "x0 = -1\n",
    "last_x, fs, xs = gradient_descent(f1, df1, x0, step_size_fn=lambda i:0.1, max_iter=10)\n",
    "#step=0.1\n",
    "#descent_animated(f2, df2, x0, step,  15, np.linspace(-2, 2), f\"f2_1_eta={step}\")\n",
    "i=0\n",
    "for x_,f_ in zip(xs, fs):\n",
    "    ax_simple.plot(x_, f_, 'b*')\n",
    "print(\"x values\")\n",
    "print(xs)\n",
    "print(\"y values\")\n",
    "print(fs)\n",
    "ax_simple.plot(last_x, f1(last_x), 'gx')\n",
    "ax_simple.plot(x0, f1(x0), \"gx\")\n",
    "ax_simple.set_title(\"gradient descent of f(x)\")"
   ],
   "metadata": {
    "collapsed": false,
    "pycharm": {
     "name": "#%%\n"
    }
   }
  },
  {
   "cell_type": "raw",
   "source": [
    " Least Squares Regression with analytical solution"
   ],
   "metadata": {
    "collapsed": false,
    "pycharm": {
     "name": "#%% raw\n"
    }
   }
  },
  {
   "cell_type": "code",
   "execution_count": 202,
   "outputs": [],
   "source": [],
   "metadata": {
    "collapsed": false,
    "pycharm": {
     "name": "#%%\n"
    }
   }
  },
  {
   "cell_type": "code",
   "execution_count": 203,
   "outputs": [
    {
     "name": "stdout",
     "output_type": "stream",
     "text": [
      "[[-1]\n",
      " [ 1]\n",
      " [ 2]]\n",
      "[[-1  1  2]]\n",
      "[[-1.  1.  2.]\n",
      " [ 1.  1.  1.]]\n",
      "[[-1.  1.]\n",
      " [ 1.  1.]\n",
      " [ 2.  1.]]\n",
      "[[-1.  1.]\n",
      " [ 1.  1.]\n",
      " [ 2.  1.]]\n",
      "Y\n",
      "[[1.5]\n",
      " [1. ]\n",
      " [2. ]]\n",
      "[[0.10714286]\n",
      " [1.42857143]]\n"
     ]
    },
    {
     "data": {
      "text/plain": "<Figure size 432x288 with 1 Axes>",
      "image/png": "[encoded data removed]"
     },
     "metadata": {
      "needs_background": "light"
     },
     "output_type": "display_data"
    }
   ],
   "source": [
    "# set your data points to be classified where x is the point and y is the label\n",
    "def data_linear_simple():\n",
    "    X = np.array([[-1], [1], [2]])\n",
    "    Y = np.array([[1.5], [1], [2]])\n",
    "    return X, Y\n",
    "\n",
    "\n",
    "\n",
    "X, Y = data_linear_simple()\n",
    "fig, ax = plt.subplots()\n",
    "ax.set_xlabel('x')\n",
    "ax.set_ylabel('y')\n",
    "ax.set_xlim(-2, 2)\n",
    "ax.set_ylim(-2, 2)\n",
    "ax.grid(True, which='both')\n",
    "ax.axhline(color='black', linewidth=0.5)\n",
    "ax.axvline(color='black', linewidth=0.5)\n",
    "ax.set_title(\"O Least squares regression analytical\")\n",
    "#.2: Todo: Compute theta* using the analytical OLS solution:\n",
    "# ------------\n",
    "for (x,y) in (zip(X,Y)):\n",
    "    ax.plot(x,y,'b+')\n",
    "# Todo: Feature transformation, add column of ones\n",
    "print(X)\n",
    "X_augmented =X.T#\n",
    "print(X_augmented)\n",
    "(d, n) = X_augmented.shape\n",
    "b = np.array([np.ones(n)])\n",
    "X_augmented=np.vstack((X_augmented, b))\n",
    "print(X_augmented)\n",
    "\n",
    "X_augmented=X_augmented.T\n",
    "print(X_augmented)\n",
    "\n",
    "#todo: for the transormation of polynomial basis 1d.\n",
    "#X_augmented=np.array([transform_polynomial_basis_1d(x[0],  2) for x in X])\n",
    "print(X_augmented)\n",
    "print(\"Y\")\n",
    "print(Y)\n",
    "np.set_printoptions(suppress=True)\n",
    "theta_star = np.linalg.inv(X_augmented.T @ X_augmented) @ X_augmented.T @ Y\n",
    "ax.plot(X, [np.dot(x, theta_star) for x in X_augmented])\n",
    "print(theta_star)\n",
    "\n",
    "plt.show()\n",
    "\n",
    "# Exercise 2"
   ],
   "metadata": {
    "collapsed": false,
    "pycharm": {
     "name": "#%%\n"
    }
   }
  },
  {
   "cell_type": "raw",
   "source": [
    "def descent_animated(f, df, x0, step_size, max_iter, X, filename):\n",
    "    \"\"\"\n",
    "    Plots a function and applies gradient descent, representing the current guess with a red line.\n",
    "    Args:\n",
    "        f : the function to apply gradient descent on\n",
    "        df : the derivative of f\n",
    "        x0 : starting guess for the gradient descent algo\n",
    "        step_size : eta, controls how big the steps between guesses are\n",
    "        max_iter : number of iterations after which the plotting is stopped, regardless of whether the algorithm has converged\n",
    "        X : the range of x values for the function to be plotted over\n",
    "        filename : the filename for the output file (gif)\n",
    "    \"\"\"\n",
    "    images = []\n",
    "    steps = 0\n",
    "    x = x0\n",
    "    y = [f(x) for x in X]\n",
    "    plt.plot(X, y)\n",
    "    while (abs(step_size * df(x)) > 0.000001) and steps <= max_iter: # loop until the function converges or maximum number of iterations is exceeded\n",
    "        x = x - (step_size * df(x))\n",
    "        line = plt.plot([x] * len(y), y, color = 'r', alpha = 0.5, label = f\"Current x value: {x}\")\n",
    "        text = plt.text(min(X), max(y), f\"Current value of x:{x}\\nStep no: {steps}\")\n",
    "        steps += 1\n",
    "        plt.savefig(\"out.png\")\n",
    "        images.append(imageio.imread(\"out.png\"))\n",
    "        line.pop(0).remove()\n",
    "        text.remove()\n",
    "    imageio.mimsave(filename + \".gif\", images)\n",
    "    plt.clf()\n"
   ],
   "metadata": {
    "collapsed": false,
    "pycharm": {
     "name": "#%% raw\n"
    }
   }
  },
  {
   "cell_type": "code",
   "execution_count": 204,
   "outputs": [
    {
     "data": {
      "text/plain": "[<matplotlib.lines.Line2D at 0x25c3d0c4b00>]"
     },
     "execution_count": 204,
     "metadata": {},
     "output_type": "execute_result"
    },
    {
     "data": {
      "text/plain": "<Figure size 432x288 with 1 Axes>",
      "image/png": "[encoded data removed]"
     },
     "metadata": {
      "needs_background": "light"
     },
     "output_type": "display_data"
    }
   ],
   "source": [
    "# Exercise 2.3 - Solution using gradient descent:\n",
    "# ------------\n",
    "\n",
    "# Todo: Implement the loss function:\n",
    "def squared_loss(x, y, theta):\n",
    "    return (x@theta - y)**2\n",
    "\n",
    "# Todo: Implement the OLS objective function (using the loss):\n",
    "def ols_objective(X, Y, theta):\n",
    "    return np.mean(squared_loss(X, Y, theta))\n",
    "\n",
    "# Todo: Implement the partial derivative of the squared loss w.r.t. theta\n",
    "def d_squared_loss_theta(x, y, theta):\n",
    "    return (2 / x.shape[0]) * ((x.T @ x @ theta) - (x.T @ y))\n",
    "        #(2 / x.shape[1]) @ x.T @ (x @ theta - y)\n",
    "\n",
    "\n",
    "# Todo: Implement the partial derivative of the OLS objective w.r.t. theta (using the partial derivative of the squared loss):\n",
    "def d_ols_objective_theta(x, y, theta):\n",
    "    return d_squared_loss_theta(x, y, theta)\n",
    "\n",
    "# Finally, the gradient of our OLS objective is simply d_ols_objective_theta (as theta is our only parameter):\n",
    "def ols_objective_grad(X, Y, theta):\n",
    "    return d_ols_objective_theta(X, Y, theta)\n",
    "\n",
    "# And we define the function that we want to minimise as the OLS objective over our dataset (X_augmented, Y):\n",
    "def f_ols(theta):\n",
    "    return ols_objective(X_augmented, Y, theta)\n",
    "\n",
    "# And its gradient:\n",
    "def df_ols(theta):\n",
    "    return ols_objective_grad(X_augmented, Y, theta)\n",
    "\n",
    "# Todo: Set an initial value for theta_init:\n",
    "theta_init = np.zeros((X_augmented.shape[1], 1))\n",
    "\n",
    "# We define a step size function - let's return a constant step size, independent of the iteration i:\n",
    "def step_size_fn(i):\n",
    "    return 0.05  # Todo: Experiment with various step sizes\n",
    "# Now we're ready to run gradient descent to minimise f_ols:\n",
    "last_x, fs, xs = gradient_descent(f_ols, df_ols, theta_init, step_size_fn=step_size_fn, max_iter=500)\n",
    "step=0.1\n",
    "\n",
    "fig1, ax1 = plt.subplots()\n",
    "ax1.set_xlabel('x')\n",
    "ax1.set_ylabel('y')\n",
    "ax1.set_xlim(-5, 5)\n",
    "ax1.set_ylim(-5, 5)\n",
    "ax1.grid(True, which='both')\n",
    "ax1.axhline(color='black', linewidth=0.5)\n",
    "ax1.axvline(color='black', linewidth=0.5)\n",
    "ax1.set_title(\"O Least squares regression gradient descent\")\n",
    "# Todo: Plot the found hypothesis into the figure with the data.\n",
    "ax1.scatter(X, Y, color='red', marker='x')\n",
    "ax1.plot(X, [np.dot(x, last_x) for x in X_augmented])\n",
    "# Todo: Also plot individual steps of gradient descent, to see how the optimisation behaves.\n",
    "# Exercise 2.3 iii):\n",
    "# Todo: Plot the loss over the iterations\n",
    "# ... ax_loss.plot(...) ...\n",
    "#ax1.plot(np.linspace(1, len(fs), len(fs)), fs, 'b-')\n",
    "#ax1.plot(range(len(xs)), fs)\n",
    "#ax1.plot(X, [np.dot(x, theta_star) for x in X_augmented])\n"
   ],
   "metadata": {
    "collapsed": false,
    "pycharm": {
     "name": "#%%\n"
    }
   }
  },
  {
   "cell_type": "code",
   "execution_count": 204,
   "outputs": [],
   "source": [],
   "metadata": {
    "collapsed": false,
    "pycharm": {
     "name": "#%%\n"
    }
   }
  },
  {
   "cell_type": "markdown",
   "source": [
    "Ridge Regression"
   ],
   "metadata": {
    "collapsed": false,
    "pycharm": {
     "name": "#%% md\n"
    }
   }
  },
  {
   "cell_type": "code",
   "execution_count": 205,
   "outputs": [
    {
     "name": "stdout",
     "output_type": "stream",
     "text": [
      "[[-1.  1.]\n",
      " [ 1.  1.]\n",
      " [ 2.  1.]]\n",
      "[[1.5]\n",
      " [1. ]\n",
      " [2. ]]\n",
      "theta, \\ theta0\n",
      "[[0.17892157]\n",
      " [0.31862745]]\n"
     ]
    },
    {
     "data": {
      "text/plain": "[<matplotlib.lines.Line2D at 0x25c3e73db00>,\n <matplotlib.lines.Line2D at 0x25c3e75c080>]"
     },
     "execution_count": 205,
     "metadata": {},
     "output_type": "execute_result"
    },
    {
     "data": {
      "text/plain": "<Figure size 432x288 with 1 Axes>",
      "image/png": "[encoded data removed]"
     },
     "metadata": {
      "needs_background": "light"
     },
     "output_type": "display_data"
    }
   ],
   "source": [
    "\n",
    "\n",
    "# Todo: Implement the OLS objective function (using the loss):\n",
    "def ols_objective_with_reg(X, Y, theta):\n",
    "    return np.mean(squared_loss(X, Y, theta)) + (2 * theta**2)\n",
    "\n",
    "\n",
    "# Todo: Implement the partial derivative of the squared loss w.r.t. theta\n",
    "def d_squared_loss_theta_with_reg(x, y, theta):\n",
    "    return ((2 / x.shape[0]) * ((x.T @ x @ theta) - (x.T @ y))) + (2 * lambd * theta)\n",
    "        #(2 / x.shape[1]) @ x.T @ (x @ theta - y)\n",
    "\n",
    "\n",
    "# Todo: Implement the partial derivative of the OLS objective w.r.t. theta (using the partial derivative of the squared loss):\n",
    "def d_ols_objective_theta_with_reg(x, y, theta):\n",
    "    return d_squared_loss_theta_with_reg(x, y, theta)\n",
    "\n",
    "# Finally, the gradient of our OLS objective is simply d_ols_objective_theta (as theta is our only parameter):\n",
    "def ols_objective_grad_with_reg(X, Y, theta):\n",
    "    return d_ols_objective_theta_with_reg(X, Y, theta)\n",
    "\n",
    "# And we define the function that we want to minimise as the OLS objective over our dataset (X_augmented, Y):\n",
    "def f_olsR(theta):\n",
    "    return ols_objective_with_reg(X_augmented, Y, theta)\n",
    "\n",
    "# And its gradient:\n",
    "def df_olsR(theta):\n",
    "    return ols_objective_grad_with_reg(X_augmented, Y, theta)\n",
    "\n",
    "# Todo: Set an initial value for theta_init:\n",
    "theta_init = np.zeros((X_augmented.shape[1], 1))\n",
    "\n",
    "# We define a step size function - let's return a constant step size, independent of the iteration i:\n",
    "def step_size_fn(i):\n",
    "    return 0.01  # Todo: Experiment with various step sizes\n",
    "# Now we're ready to run gradient descent to minimise f_ols:\n",
    "lambd = 10\n",
    "#last_x, fs, xs = gradient_descent(f_olsR, df_olsR, theta_init, step_size_fn=step_size_fn, max_iter=500)\n",
    "step=0.1\n",
    "\n",
    "fig2, ax2 = plt.subplots()\n",
    "ax2.set_xlabel('x')\n",
    "ax2.set_ylabel('y')\n",
    "ax2.set_xlim(-2, 3)\n",
    "ax2.set_ylim(-2, 3)\n",
    "ax2.grid(True, which='both')\n",
    "ax2.axhline(color='black', linewidth=0.5)\n",
    "ax2.axvline(color='black', linewidth=0.5)\n",
    "ax2.set_title(\"ridge regression gradient descent\")\n",
    "# Todo: Plot the found hypothesis into the figure with the data.\n",
    "print(X_augmented)\n",
    "print(Y)\n",
    "ax2.scatter(X, Y, color='red', marker='x')\n",
    "#ax2.plot(X, [np.dot(x, last_x) for x in X_augmented])\n",
    "# Todo: Also plot individual steps of gradient descent, to see how the optimisation behaves.\n",
    "# Exercise 2.3 iii):\n",
    "# Todo: Plot the loss over the iterations\n",
    "# ... ax_loss.plot(...) ...\n",
    "#ax2.plot(range(len(xs)), fs)\n",
    "X=X_augmented\n",
    "(d,n) = X.shape\n",
    "theta_star2 = np.linalg.inv((X.T@X)+(lambd*np.identity(n)))@X.T@Y\n",
    "print(\"theta, \\\\ theta0\")\n",
    "print(theta_star2)\n",
    "theta_star2[1] =[0]\n",
    "ax2.plot(X, [np.dot(x, theta_star2) for x in X], 'r')"
   ],
   "metadata": {
    "collapsed": false,
    "pycharm": {
     "name": "#%%\n"
    }
   }
  },
  {
   "cell_type": "code",
   "execution_count": 205,
   "outputs": [],
   "source": [],
   "metadata": {
    "collapsed": false,
    "pycharm": {
     "name": "#%%\n"
    }
   }
  },
  {
   "cell_type": "code",
   "execution_count": 205,
   "outputs": [],
   "source": [],
   "metadata": {
    "collapsed": false,
    "pycharm": {
     "name": "#%%\n"
    }
   }
  },
  {
   "cell_type": "code",
   "execution_count": 205,
   "outputs": [],
   "source": [],
   "metadata": {
    "collapsed": false,
    "pycharm": {
     "name": "#%%\n"
    }
   }
  }
 ],
 "metadata": {
  "kernelspec": {
   "display_name": "Python 3",
   "language": "python",
   "name": "python3"
  },
  "language_info": {
   "codemirror_mode": {
    "name": "ipython",
    "version": 2
   },
   "file_extension": ".py",
   "mimetype": "text/x-python",
   "name": "python",
   "nbconvert_exporter": "python",
   "pygments_lexer": "ipython2",
   "version": "2.7.6"
  }
 },
 "nbformat": 4,
 "nbformat_minor": 0
}